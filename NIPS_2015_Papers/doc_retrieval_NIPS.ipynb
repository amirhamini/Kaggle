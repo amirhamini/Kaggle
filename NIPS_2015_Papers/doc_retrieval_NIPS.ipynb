{
 "cells": [
  {
   "cell_type": "markdown",
   "metadata": {},
   "source": [
    "## NIPS Paper notebook"
   ]
  },
  {
   "cell_type": "code",
   "execution_count": 1,
   "metadata": {
    "collapsed": true
   },
   "outputs": [],
   "source": [
    "import graphlab\n",
    "import numpy as np\n",
    "import pandas as pd"
   ]
  },
  {
   "cell_type": "markdown",
   "metadata": {},
   "source": [
    "## Let's discover what data we have:"
   ]
  },
  {
   "cell_type": "code",
   "execution_count": 2,
   "metadata": {
    "collapsed": false
   },
   "outputs": [
    {
     "name": "stderr",
     "output_type": "stream",
     "text": [
      "[INFO] \u001b[1;32m1452221178 : INFO:     (initialize_globals_from_environment:282): Setting configuration variable GRAPHLAB_FILEIO_ALTERNATIVE_SSL_CERT_FILE to /opt/local/Library/Frameworks/Python.framework/Versions/2.7/lib/python2.7/site-packages/certifi/cacert.pem\n",
      "\u001b[0m\u001b[1;32m1452221178 : INFO:     (initialize_globals_from_environment:282): Setting configuration variable GRAPHLAB_FILEIO_ALTERNATIVE_SSL_CERT_DIR to \n",
      "\u001b[0mThis non-commercial license of GraphLab Create is assigned to aminia@u.washington.edu and will expire on November 11, 2016. For commercial licensing options, visit https://dato.com/buy/.\n",
      "\n",
      "[INFO] Start server at: ipc:///tmp/graphlab_server-1326 - Server binary: /opt/local/Library/Frameworks/Python.framework/Versions/2.7/lib/python2.7/site-packages/graphlab/unity_server - Server log: /tmp/graphlab_server_1452221178.log\n",
      "[INFO] GraphLab Server Version: 1.7.1\n"
     ]
    }
   ],
   "source": [
    "papers_df = pd.read_csv('Data/output/Papers.csv')\n",
    "papers_data = graphlab.SFrame(data = papers_df)\n",
    "authors_df = pd.read_csv('Data/output/Authors.csv')\n",
    "authors_data = graphlab.SFrame(data = authors_df)\n",
    "authorId_df = pd.read_csv('Data/output/PaperAuthors.csv')\n",
    "authorId_data = graphlab.SFrame(data = authorId_df)"
   ]
  },
  {
   "cell_type": "code",
   "execution_count": 3,
   "metadata": {
    "collapsed": false
   },
   "outputs": [
    {
     "data": {
      "text/html": [
       "<div style=\"max-height:1000px;max-width:1500px;overflow:auto;\"><table frame=\"box\" rules=\"cols\">\n",
       "    <tr>\n",
       "        <th style=\"padding-left: 1em; padding-right: 1em; text-align: center\">Id</th>\n",
       "        <th style=\"padding-left: 1em; padding-right: 1em; text-align: center\">Title</th>\n",
       "        <th style=\"padding-left: 1em; padding-right: 1em; text-align: center\">EventType</th>\n",
       "        <th style=\"padding-left: 1em; padding-right: 1em; text-align: center\">PdfName</th>\n",
       "        <th style=\"padding-left: 1em; padding-right: 1em; text-align: center\">Abstract</th>\n",
       "    </tr>\n",
       "    <tr>\n",
       "        <td style=\"padding-left: 1em; padding-right: 1em; text-align: center; vertical-align: top\">5677</td>\n",
       "        <td style=\"padding-left: 1em; padding-right: 1em; text-align: center; vertical-align: top\">Double or Nothing:<br>Multiplicative Incentive ...</td>\n",
       "        <td style=\"padding-left: 1em; padding-right: 1em; text-align: center; vertical-align: top\">Poster</td>\n",
       "        <td style=\"padding-left: 1em; padding-right: 1em; text-align: center; vertical-align: top\">5677-double-or-nothing-<br>multiplicative-incent ...</td>\n",
       "        <td style=\"padding-left: 1em; padding-right: 1em; text-align: center; vertical-align: top\">Crowdsourcing has gained<br>immense popularity in ...</td>\n",
       "    </tr>\n",
       "    <tr>\n",
       "        <td style=\"padding-left: 1em; padding-right: 1em; text-align: center; vertical-align: top\">5941</td>\n",
       "        <td style=\"padding-left: 1em; padding-right: 1em; text-align: center; vertical-align: top\">Learning with Symmetric<br>Label Noise: The ...</td>\n",
       "        <td style=\"padding-left: 1em; padding-right: 1em; text-align: center; vertical-align: top\">Spotlight</td>\n",
       "        <td style=\"padding-left: 1em; padding-right: 1em; text-align: center; vertical-align: top\">5941-learning-with-<br>symmetric-label-noise- ...</td>\n",
       "        <td style=\"padding-left: 1em; padding-right: 1em; text-align: center; vertical-align: top\">Convex potential<br>minimisation is the de ...</td>\n",
       "    </tr>\n",
       "    <tr>\n",
       "        <td style=\"padding-left: 1em; padding-right: 1em; text-align: center; vertical-align: top\">6019</td>\n",
       "        <td style=\"padding-left: 1em; padding-right: 1em; text-align: center; vertical-align: top\">Algorithmic Stability and<br>Uniform Generalization ...</td>\n",
       "        <td style=\"padding-left: 1em; padding-right: 1em; text-align: center; vertical-align: top\">Poster</td>\n",
       "        <td style=\"padding-left: 1em; padding-right: 1em; text-align: center; vertical-align: top\">6019-algorithmic-<br>stability-and-uniform- ...</td>\n",
       "        <td style=\"padding-left: 1em; padding-right: 1em; text-align: center; vertical-align: top\">One of the central<br>questions in statistical ...</td>\n",
       "    </tr>\n",
       "    <tr>\n",
       "        <td style=\"padding-left: 1em; padding-right: 1em; text-align: center; vertical-align: top\">6035</td>\n",
       "        <td style=\"padding-left: 1em; padding-right: 1em; text-align: center; vertical-align: top\">Adaptive Low-Complexity<br>Sequential Inference for ...</td>\n",
       "        <td style=\"padding-left: 1em; padding-right: 1em; text-align: center; vertical-align: top\">Poster</td>\n",
       "        <td style=\"padding-left: 1em; padding-right: 1em; text-align: center; vertical-align: top\">6035-adaptive-low-<br>complexity-sequential- ...</td>\n",
       "        <td style=\"padding-left: 1em; padding-right: 1em; text-align: center; vertical-align: top\">We develop a sequential<br>low-complexity inference ...</td>\n",
       "    </tr>\n",
       "    <tr>\n",
       "        <td style=\"padding-left: 1em; padding-right: 1em; text-align: center; vertical-align: top\">5978</td>\n",
       "        <td style=\"padding-left: 1em; padding-right: 1em; text-align: center; vertical-align: top\">Covariance-Controlled<br>Adaptive Langevin ...</td>\n",
       "        <td style=\"padding-left: 1em; padding-right: 1em; text-align: center; vertical-align: top\">Poster</td>\n",
       "        <td style=\"padding-left: 1em; padding-right: 1em; text-align: center; vertical-align: top\">5978-covariance-<br>controlled-adaptive- ...</td>\n",
       "        <td style=\"padding-left: 1em; padding-right: 1em; text-align: center; vertical-align: top\">Monte Carlo sampling for<br>Bayesian posterior ...</td>\n",
       "    </tr>\n",
       "</table>\n",
       "<table frame=\"box\" rules=\"cols\">\n",
       "    <tr>\n",
       "        <th style=\"padding-left: 1em; padding-right: 1em; text-align: center\">PaperText</th>\n",
       "    </tr>\n",
       "    <tr>\n",
       "        <td style=\"padding-left: 1em; padding-right: 1em; text-align: center; vertical-align: top\">Double or Nothing:<br>Multiplicative\\nIncen ...</td>\n",
       "    </tr>\n",
       "    <tr>\n",
       "        <td style=\"padding-left: 1em; padding-right: 1em; text-align: center; vertical-align: top\">Learning with Symmetric<br>Label Noise: ...</td>\n",
       "    </tr>\n",
       "    <tr>\n",
       "        <td style=\"padding-left: 1em; padding-right: 1em; text-align: center; vertical-align: top\">Algorithmic Stability and<br>Uniform ...</td>\n",
       "    </tr>\n",
       "    <tr>\n",
       "        <td style=\"padding-left: 1em; padding-right: 1em; text-align: center; vertical-align: top\">Adaptive Low-Complexity<br>Sequential Inference ...</td>\n",
       "    </tr>\n",
       "    <tr>\n",
       "        <td style=\"padding-left: 1em; padding-right: 1em; text-align: center; vertical-align: top\">Covariance-Controlled<br>Adaptive ...</td>\n",
       "    </tr>\n",
       "</table>\n",
       "[5 rows x 6 columns]<br/>\n",
       "</div>"
      ],
      "text/plain": [
       "Columns:\n",
       "\tId\tint\n",
       "\tTitle\tstr\n",
       "\tEventType\tstr\n",
       "\tPdfName\tstr\n",
       "\tAbstract\tstr\n",
       "\tPaperText\tstr\n",
       "\n",
       "Rows: 5\n",
       "\n",
       "Data:\n",
       "+------+-------------------------------+-----------+\n",
       "|  Id  |             Title             | EventType |\n",
       "+------+-------------------------------+-----------+\n",
       "| 5677 | Double or Nothing: Multipl... |   Poster  |\n",
       "| 5941 | Learning with Symmetric La... | Spotlight |\n",
       "| 6019 | Algorithmic Stability and ... |   Poster  |\n",
       "| 6035 | Adaptive Low-Complexity Se... |   Poster  |\n",
       "| 5978 | Covariance-Controlled Adap... |   Poster  |\n",
       "+------+-------------------------------+-----------+\n",
       "+-------------------------------+-------------------------------+\n",
       "|            PdfName            |            Abstract           |\n",
       "+-------------------------------+-------------------------------+\n",
       "| 5677-double-or-nothing-mul... | Crowdsourcing has gained i... |\n",
       "| 5941-learning-with-symmetr... | Convex potential minimisat... |\n",
       "| 6019-algorithmic-stability... | One of the central questio... |\n",
       "| 6035-adaptive-low-complexi... | We develop a sequential lo... |\n",
       "| 5978-covariance-controlled... | Monte Carlo sampling for B... |\n",
       "+-------------------------------+-------------------------------+\n",
       "+-------------------------------+\n",
       "|           PaperText           |\n",
       "+-------------------------------+\n",
       "| Double or Nothing: Multipl... |\n",
       "| Learning with Symmetric La... |\n",
       "| Algorithmic Stability and ... |\n",
       "| Adaptive Low-Complexity Se... |\n",
       "| Covariance-Controlled Adap... |\n",
       "+-------------------------------+\n",
       "[5 rows x 6 columns]"
      ]
     },
     "execution_count": 3,
     "metadata": {},
     "output_type": "execute_result"
    }
   ],
   "source": [
    "papers_data.head(5)"
   ]
  },
  {
   "cell_type": "code",
   "execution_count": 4,
   "metadata": {
    "collapsed": false
   },
   "outputs": [
    {
     "data": {
      "text/html": [
       "<div style=\"max-height:1000px;max-width:1500px;overflow:auto;\"><table frame=\"box\" rules=\"cols\">\n",
       "    <tr>\n",
       "        <th style=\"padding-left: 1em; padding-right: 1em; text-align: center\">Id</th>\n",
       "        <th style=\"padding-left: 1em; padding-right: 1em; text-align: center\">Name</th>\n",
       "    </tr>\n",
       "    <tr>\n",
       "        <td style=\"padding-left: 1em; padding-right: 1em; text-align: center; vertical-align: top\">4113</td>\n",
       "        <td style=\"padding-left: 1em; padding-right: 1em; text-align: center; vertical-align: top\">Constantine Caramanis</td>\n",
       "    </tr>\n",
       "    <tr>\n",
       "        <td style=\"padding-left: 1em; padding-right: 1em; text-align: center; vertical-align: top\">4828</td>\n",
       "        <td style=\"padding-left: 1em; padding-right: 1em; text-align: center; vertical-align: top\">Richard L. Lewis</td>\n",
       "    </tr>\n",
       "    <tr>\n",
       "        <td style=\"padding-left: 1em; padding-right: 1em; text-align: center; vertical-align: top\">5506</td>\n",
       "        <td style=\"padding-left: 1em; padding-right: 1em; text-align: center; vertical-align: top\">Ryan Kiros</td>\n",
       "    </tr>\n",
       "    <tr>\n",
       "        <td style=\"padding-left: 1em; padding-right: 1em; text-align: center; vertical-align: top\">7331</td>\n",
       "        <td style=\"padding-left: 1em; padding-right: 1em; text-align: center; vertical-align: top\">Kfir Levy</td>\n",
       "    </tr>\n",
       "    <tr>\n",
       "        <td style=\"padding-left: 1em; padding-right: 1em; text-align: center; vertical-align: top\">8429</td>\n",
       "        <td style=\"padding-left: 1em; padding-right: 1em; text-align: center; vertical-align: top\">Wei Cao</td>\n",
       "    </tr>\n",
       "</table>\n",
       "[5 rows x 2 columns]<br/>\n",
       "</div>"
      ],
      "text/plain": [
       "Columns:\n",
       "\tId\tint\n",
       "\tName\tstr\n",
       "\n",
       "Rows: 5\n",
       "\n",
       "Data:\n",
       "+------+-----------------------+\n",
       "|  Id  |          Name         |\n",
       "+------+-----------------------+\n",
       "| 4113 | Constantine Caramanis |\n",
       "| 4828 |    Richard L. Lewis   |\n",
       "| 5506 |       Ryan Kiros      |\n",
       "| 7331 |       Kfir Levy       |\n",
       "| 8429 |        Wei Cao        |\n",
       "+------+-----------------------+\n",
       "[5 rows x 2 columns]"
      ]
     },
     "execution_count": 4,
     "metadata": {},
     "output_type": "execute_result"
    }
   ],
   "source": [
    "authors_data.head(5)"
   ]
  },
  {
   "cell_type": "code",
   "execution_count": 5,
   "metadata": {
    "collapsed": false
   },
   "outputs": [
    {
     "data": {
      "text/html": [
       "<div style=\"max-height:1000px;max-width:1500px;overflow:auto;\"><table frame=\"box\" rules=\"cols\">\n",
       "    <tr>\n",
       "        <th style=\"padding-left: 1em; padding-right: 1em; text-align: center\">Id</th>\n",
       "        <th style=\"padding-left: 1em; padding-right: 1em; text-align: center\">PaperId</th>\n",
       "        <th style=\"padding-left: 1em; padding-right: 1em; text-align: center\">AuthorId</th>\n",
       "    </tr>\n",
       "    <tr>\n",
       "        <td style=\"padding-left: 1em; padding-right: 1em; text-align: center; vertical-align: top\">1</td>\n",
       "        <td style=\"padding-left: 1em; padding-right: 1em; text-align: center; vertical-align: top\">5677</td>\n",
       "        <td style=\"padding-left: 1em; padding-right: 1em; text-align: center; vertical-align: top\">7956</td>\n",
       "    </tr>\n",
       "    <tr>\n",
       "        <td style=\"padding-left: 1em; padding-right: 1em; text-align: center; vertical-align: top\">2</td>\n",
       "        <td style=\"padding-left: 1em; padding-right: 1em; text-align: center; vertical-align: top\">5677</td>\n",
       "        <td style=\"padding-left: 1em; padding-right: 1em; text-align: center; vertical-align: top\">2649</td>\n",
       "    </tr>\n",
       "    <tr>\n",
       "        <td style=\"padding-left: 1em; padding-right: 1em; text-align: center; vertical-align: top\">3</td>\n",
       "        <td style=\"padding-left: 1em; padding-right: 1em; text-align: center; vertical-align: top\">5941</td>\n",
       "        <td style=\"padding-left: 1em; padding-right: 1em; text-align: center; vertical-align: top\">8299</td>\n",
       "    </tr>\n",
       "    <tr>\n",
       "        <td style=\"padding-left: 1em; padding-right: 1em; text-align: center; vertical-align: top\">4</td>\n",
       "        <td style=\"padding-left: 1em; padding-right: 1em; text-align: center; vertical-align: top\">5941</td>\n",
       "        <td style=\"padding-left: 1em; padding-right: 1em; text-align: center; vertical-align: top\">8300</td>\n",
       "    </tr>\n",
       "    <tr>\n",
       "        <td style=\"padding-left: 1em; padding-right: 1em; text-align: center; vertical-align: top\">5</td>\n",
       "        <td style=\"padding-left: 1em; padding-right: 1em; text-align: center; vertical-align: top\">5941</td>\n",
       "        <td style=\"padding-left: 1em; padding-right: 1em; text-align: center; vertical-align: top\">575</td>\n",
       "    </tr>\n",
       "</table>\n",
       "[5 rows x 3 columns]<br/>\n",
       "</div>"
      ],
      "text/plain": [
       "Columns:\n",
       "\tId\tint\n",
       "\tPaperId\tint\n",
       "\tAuthorId\tint\n",
       "\n",
       "Rows: 5\n",
       "\n",
       "Data:\n",
       "+----+---------+----------+\n",
       "| Id | PaperId | AuthorId |\n",
       "+----+---------+----------+\n",
       "| 1  |   5677  |   7956   |\n",
       "| 2  |   5677  |   2649   |\n",
       "| 3  |   5941  |   8299   |\n",
       "| 4  |   5941  |   8300   |\n",
       "| 5  |   5941  |   575    |\n",
       "+----+---------+----------+\n",
       "[5 rows x 3 columns]"
      ]
     },
     "execution_count": 5,
     "metadata": {},
     "output_type": "execute_result"
    }
   ],
   "source": [
    "authorId_data.head(5)"
   ]
  },
  {
   "cell_type": "markdown",
   "metadata": {},
   "source": [
    "# Goal: Given a author's name find people who work similar to her/him\n",
    "* ## 1. Find the papers that are similar based on abstract, full-text, and both\n",
    "* ## 2. Find the Authors assosiated with those papers"
   ]
  },
  {
   "cell_type": "markdown",
   "metadata": {},
   "source": [
    "# 1. Find the papers that are similar based on abstract, full-text, and both\n",
    "* ## a) Find the important keywords of each document using tf-idf\n",
    "* ## b) Apply knn_model on tf-idf to find similar papers"
   ]
  },
  {
   "cell_type": "markdown",
   "metadata": {},
   "source": [
    "### Challenge: something needs to be done to \\n \\x and things like that in PaperText. They need to be replaced by space. It seems like that the Abstract does not have such problems though."
   ]
  },
  {
   "cell_type": "code",
   "execution_count": 6,
   "metadata": {
    "collapsed": false
   },
   "outputs": [
    {
     "data": {
      "text/plain": [
       "'Double or Nothing: Multiplicative\\nIncentive Mechanisms for Crowdsourcing\\nNihar B. Shah\\nUniversity of California, Berkeley\\nnihar@eecs.berkeley.edu\\n\\nDengyong Zhou\\nMicrosoft Research\\ndengyong.zhou@microsoft.com\\n\\nAbstract\\nCrowdsourcing has gained immense popularity in machine learning applications\\nfor obtaining large amounts of labeled data. Crowdsourcing is cheap and fast, but\\nsuffers from the problem of low-quality data. To address this fundamental challenge in crowdsourcing, we propose a simple payment mechanism to incentivize\\nworkers to answer only the questions that they are sure of and skip the rest. We\\nshow that surprisingly, under a mild and natural \\xe2\\x80\\x9cno-free-lunch\\xe2\\x80\\x9d requirement, this\\nmechanism is the one and only incentive-compatible payment mechanism possible. We also show that among all possible incentive-compatible mechanisms\\n(that may or may not satisfy no-free-lunch), our mechanism makes the smallest possible payment to spammers. Interestingly, this unique mechanism takes a\\n\\xe2\\x80\\x9cmultiplicative\\xe2\\x80\\x9d form. The simplicity of the mechanism is an added benefit. In\\npreliminary experiments involving over several hundred workers, we observe a\\nsignificant reduction in the error rates under our unique mechanism for the same\\nor lower monetary expenditure.\\n\\n1\\n\\nIntroduction\\n\\nComplex machine learning tools such as deep learning are gaining increasing popularity and are\\nbeing applied to a wide variety of problems. These tools, however, require large amounts of labeled\\ndata [HDY+ 12, RYZ+ 10, DDS+ 09, CBW+ 10]. These large labeling tasks are being performed by\\ncoordinating crowds of semi-skilled workers through the Internet. This is known as crowdsourcing.\\nCrowdsourcing as a means of collecting labeled training data has now become indispensable to the\\nengineering of intelligent systems.\\nMost workers in crowdsourcing are not experts. As a consequence, labels obtained from crowdsourcing typically have a significant amount of error [KKKMF11, VdVE11, WLC+ 10]. Recent\\nefforts have focused on developing statistical techniques to post-process the noisy labels in order\\nto improve its quality (e.g., [RYZ+ 10, ZLP+ 15, KOS11, IPSW14]). However, when the inputs to\\nthese algorithms are erroneous, it is difficult to guarantee that the processed labels will be reliable\\nenough for subsequent use by machine learning or other applications. In order to avoid \\xe2\\x80\\x9cgarbage in,\\ngarbage out\\xe2\\x80\\x9d, we take a complementary approach to this problem: cleaning the data at the time of\\ncollection.\\nWe consider crowdsourcing settings where the workers are paid for their services, such as in the\\npopular crowdsourcing platforms of Amazon Mechanical Turk and others. These commercial platforms have gained substantial popularity due to their support for a diverse range of tasks for machine\\nlearning labeling, varying from image annotation and text recognition to speech captioning and machine translation. We consider problems that are objective in nature, that is, have a definite answer.\\nFigure 1a depicts an example of such a question where the worker is shown a set of images, and for\\neach image, the worker is required to identify if the image depicts the Golden Gate Bridge.\\n1\\n\\n\\x0cIs this the Golden Gate Bridge?\\n\\nIs this the Golden Gate Bridge?\\n\\nYes!\\n\\nYes!\\n\\nNo!\\n\\nNo\\n\\nI\\xe2\\x80\\x99m not sure\\n\\n(b)!\\n\\n(a)!\\n\\nFigure 1: Different interfaces in a crowdsourcing setup: (a) the conventional interface, and (b) with\\nan option to skip.\\nOur approach builds on the simple insight that in typical crowdsourcing setups, workers are simply\\npaid in proportion to the amount of tasks they complete. As a result, workers attempt to answer\\nquestions that they are not sure of, thereby increasing the error rate of the labels. For the questions\\nthat a worker is not sure of, her answers could be very unreliable [WLC+ 10, KKKMF11, VdVE11,\\nJSV14]. To ensure acquisition of only high-quality labels, we wish to encourage the worker to\\nskip the questions about which she is unsure, for instance, by providing an explicit \\xe2\\x80\\x9cI\\xe2\\x80\\x99m not sure\\xe2\\x80\\x9d\\noption for every question (see Figure 1b). Our goal is to develop payment mechanisms to encourage\\nthe worker to select this option when she is unsure. We will term any payment mechanism that\\nincentivizes the worker to do so as \\xe2\\x80\\x9cincentive compatible\\xe2\\x80\\x9d.\\nIn addition to incentive compatibility, preventing spammers is another desirable requirement from\\nincentive mechanisms in crowdsourcing. Spammers are workers who answer randomly without\\nregard to the question being asked, in the hope of earning some free money, and are known to exist\\nin large numbers on crowdsourcing platforms [WLC+ 10, Boh11, KKKMF11, VdVE11]. It is thus\\nof interest to deter spammers by paying them as low as possible. An intuitive objective, to this end,\\nis to ensure a zero expenditure on spammers who answer randomly. In this paper, however, we\\nimpose a strictly and significantly weaker condition, and then show that there is one and only one\\nincentive-compatible mechanism that can satisfy this weak condition. Our requirement, referred to\\nas the \\xe2\\x80\\x9cno-free-lunch\\xe2\\x80\\x9d axiom, says that if all the questions attempted by the worker are answered\\nincorrectly, then the payment must be zero.\\nWe propose a payment mechanism for the aforementioned setting (\\xe2\\x80\\x9cincentive compatibility\\xe2\\x80\\x9d plus\\n\\xe2\\x80\\x9cno-free-lunch\\xe2\\x80\\x9d), and show that surprisingly, this is the only possible mechanism. We also show that\\nadditionally, our mechanism makes the smallest possible payment to spammers among all possible\\nincentive compatible mechanisms that may or may not satisfy the no-free-lunch axiom. Our payment\\nmechanism takes a multiplicative form: the evaluation of the worker\\xe2\\x80\\x99s response to each question is\\na certain score, and the final payment is a product of these scores. This mechanism has additional\\nappealing features in that it is simple to compute, and is also simple to explain to the workers. Our\\nmechanism is applicable to any type of objective questions, including multiple choice annotation\\nquestions, transcription tasks, etc.\\nIn order to test whether our mechanism is practical, and to assess the quality of the final labels\\nobtained, we conducted experiments on the Amazon Mechanical Turk crowdsourcing platform. In\\nour preliminary experiments that involved over several hundred workers, we found that the quality\\nof data improved by two-fold under our unique mechanism, with the total monetary expenditure\\nbeing the same or lower as compared to the conventional baseline.\\n\\n2\\n\\nProblem Setting\\n\\nIn the crowdsourcing setting that we consider, one or more workers perform a task, where a task\\nconsists of multiple questions. The questions are objective, by which we mean, each question has\\nprecisely one correct answer. Examples of objective questions include multiple-choice classification\\nquestions such as Figure 1, questions on transcribing text from audio or images, etc.\\nFor any possible answer to any question, we define the worker\\xe2\\x80\\x99s confidence about an answer as the\\nprobability, according to her belief, of this answer being correct. In other words, one can assume\\nthat the worker has (in her mind) a probability distribution over all possible answers to a question,\\nand the confidence for an answer is the probability of that answer being correct. As a shorthand, we\\nalso define the confidence about a question as the confidence for the answer that the worker is most\\n2\\n\\n\\x0cconfident about for that question. We assume that the worker\\xe2\\x80\\x99s confidences for different questions\\nare independent. Our goal is that for every question, the worker should be incentivized to:\\n1. skip if the confidence is below a certain pre-defined threshold, otherwise:\\n2. select the answer that she thinks is most confident about.\\nMore formally, let T 2 (0, 1) be a predefined value. The goal is to design payment mechanisms that\\nincentivize the worker to skip the questions for which her confidence is lower than T , and attempt\\nthose for which her confidence is higher than T . 1 Moreover, for the questions that she attempts to\\nanswer, she must be incentivized to select the answer that she believes is most likely to be correct.\\nThe threshold T may be chosen based on various factors of the problem at hand, for example, on\\nthe downstream machine learning algorithms using the crowdsourced data, or the knowledge of the\\nstatistics of worker abilities, etc. In this paper we assume that the threshold T is given to us.\\nLet N denote the total number of questions in the task. Among these, we assume the existence of\\nsome \\xe2\\x80\\x9cgold standard\\xe2\\x80\\x9d questions, that is, a set of questions whose answers are known to the requester.\\nLet G (1 \\xef\\xa3\\xbf G \\xef\\xa3\\xbf N ) denote the number of gold standard questions. The G gold standard questions\\nare assumed to be distributed uniformly at random in the pool of N questions (of course, the worker\\ndoes not know which G of the N questions form the gold standard). The payment to a worker for\\na task is computed after receiving her responses to all the questions in the task. The payment is\\nbased on the worker\\xe2\\x80\\x99s performance on the gold standard questions. Since the payment is based on\\nknown answers, the payments to different workers do not depend on each other, thereby allowing us\\nto consider the presence of only one worker without any loss in generality.\\nWe will employ the following standard notation. For any positive integer K, the set {1, . . . , K} is\\ndenoted by [K]. The indicator function is denoted by 1, i.e., 1{z} = 1 if z is true, and 0 otherwise.\\nThe notation R+ denotes the set of all non-negative real numbers.\\nLet x1 , . . . , xG 2 { 1, 0, +1} denote the evaluations of the answers that the worker gives to the G\\ngold standard questions. Here, \\xe2\\x80\\x9c0\\xe2\\x80\\x9d denotes that the worker skipped the question, \\xe2\\x80\\x9c 1\\xe2\\x80\\x9d denotes that\\nthe worker attempted to answer the question and that answer was incorrect, and \\xe2\\x80\\x9c+1\\xe2\\x80\\x9d denotes that\\nthe worker attempted to answer the question and that answer was correct. Let f : { 1, 0, +1}G !\\nR+ denote the payment function, namely, a function that determines the payment to the worker\\nbased on these evaluations x1 , . . . , xG . Note that the crowdsourcing platforms of today mandate the\\npayments to be non-negative. We will let \\xc2\\xb5 (> 0) denote the budget, i.e., the maximum amount that\\ncan be paid to any individual worker for this task:\\nmax f (x1 , . . . , xG ) = \\xc2\\xb5.\\nx1 ,...,xG\\n\\nThe amount \\xc2\\xb5 is thus the amount of compensation paid to a perfect agent for her work. We will\\nassume this budget condition of \\xc2\\xb5 throughout the rest of the paper.\\nWe assume that the worker attempts to maximize her overall expected payment. In what follows, the\\nexpression \\xe2\\x80\\x98the worker\\xe2\\x80\\x99s expected payment\\xe2\\x80\\x99 will refer to the expected payment from the worker\\xe2\\x80\\x99s\\npoint of view, and the expectation will be taken with respect to the worker\\xe2\\x80\\x99s confidences about her\\nanswers and the uniformly random choice of the G gold standard questions among the N questions\\nin the task. For any question i 2 [N ], let yi = 1 if the worker attempts question i, and set yi = 0\\notherwise. Further, for every question i 2 [N ] such that yi 6= 0, let pi be the confidence of the\\nworker for the answer she has selected for question i, and for every question i 2 [N ] such that\\nyi = 0, let pi 2 (0, 1) be any arbitrary value. Let E = (\\xe2\\x9c\\x8f1 , . . . , \\xe2\\x9c\\x8fG ) 2 { 1, 1}G . Then from the\\nworker\\xe2\\x80\\x99s perspective, the expected payment for the selected answers and confidence-levels is\\n!\\nG\\nX\\nX\\nY\\n1+\\xe2\\x9c\\x8fi\\n1 \\xe2\\x9c\\x8fi\\n1\\nf (\\xe2\\x9c\\x8f1 yj1 , . . . , \\xe2\\x9c\\x8fG yjG ) (pji ) 2 (1 pji ) 2\\n.\\nN\\nG\\n\\ni=1\\n\\n(j1 ,...,jG ) E2{ 1,1}G\\n\\xe2\\x9c\\x93{1,...,N }\\n\\nIn the expression above, the outermost summation corresponds to the expectation with respect to the\\nrandomness arising from the unknown choice of the gold standard questions. The inner summation\\ncorresponds to the expectation with respect to the worker\\xe2\\x80\\x99s beliefs about the correctness of her\\nresponses.\\n1\\nIn the event that the confidence about a question is exactly equal to T , the worker may be equally incentivized to answer or skip.\\n\\n3\\n\\n\\x0cWe will call any payment function f as an incentive-compatible mechanism if the expected payment\\nof the worker under this payment function is strictly maximized when the worker responds in the\\nmanner desired.2\\n\\n3\\n\\nMain results: Incentive-compatible mechanism and guarantees\\n\\nIn this section, we present the main results of the paper, namely, the design of incentive-compatible\\nmechanisms with practically useful properties. To this end, we impose the following natural requirement on the payment function f that is motivated by the practical considerations of budget\\nconstraints and discouraging spammers and miscreants [Boh11, KKKMF11, VdVE11, WLC+ 10].\\nWe term this requirement as the \\xe2\\x80\\x9cno-free-lunch axiom\\xe2\\x80\\x9d:\\nAxiom 1 (No-free-lunch axiom). If all the answers attempted by the worker in the gold standard are\\nwrong, then the payment is zero. More formally, for every set of evaluations (x1 , . . . , xG ) that satisfy\\nPG\\nPG\\n0 < i=1 1{xi 6= 0} = i=1 1{xi = 1}, we require the payment to satisfy f (x1 , . . . , xG ) = 0.\\n\\nObserve that no-free-lunch is an extremely mild requirement. In fact, it is significantly weaker than\\nimposing a zero payment on workers who answer randomly. For instance, if the questions are of\\nbinary-choice format, then randomly choosing among the two options for each question would result\\nin 50% of the answers being correct in expectation, while the no-free-lunch axiom is applicable only\\nwhen none of them turns out to be correct.\\n3.1\\n\\nProposed \\xe2\\x80\\x9cMultiplicative\\xe2\\x80\\x9d Mechanism\\n\\nWe now present our proposed payment mechanism in Algorithm 1.\\nAlgorithm 1 \\xe2\\x80\\x9cMultiplicative\\xe2\\x80\\x9d incentive-compatible mechanism\\n\\xe2\\x80\\xa2 Inputs: Threshold T , Budget \\xc2\\xb5, Evaluations (x1 , . . . , xG ) 2 { 1, 0, +1}G of the worker\\xe2\\x80\\x99s answers to the G gold standard questions\\nPG\\nPG\\n\\xe2\\x80\\xa2 Let C = i=1 1{xi = 1} and W = i=1 1{xi = 1}\\n\\xe2\\x80\\xa2 The payment is\\n\\nf (x1 , . . . , xG ) = \\xc2\\xb5T G\\n\\nC\\n\\n1{W = 0}.\\n\\nThe proposed mechanism has a multiplicative form: each answer in the gold standard is given a\\nscore based on whether it was correct (score = T1 ), incorrect (score = 0) or skipped (score = 1),\\nand the final payment is simply a product of these scores (scaled by \\xc2\\xb5). The mechanism is easy to\\ndescribe to workers: For instance, if T = 12 , G = 3 and \\xc2\\xb5 = 80 cents, then the description reads:\\n\\xe2\\x80\\x9cThe reward starts at 10 cents. For every correct answer in the 3 gold standard questions,\\nthe reward will double. However, if any of these questions are answered incorrectly, then\\nthe reward will become zero. So please use the \\xe2\\x80\\x98I\\xe2\\x80\\x99m not sure\\xe2\\x80\\x99 option wisely.\\xe2\\x80\\x9d\\nObserve how this payment rule is similar to the popular \\xe2\\x80\\x98double or nothing\\xe2\\x80\\x99 paradigm [Dou14].\\nThe algorithm makes a zero payment if one or more attempted answers in the gold standard are\\nwrong. Note that this property is significantly stronger than the property of no-free-lunch which\\nwe originally required, where we wanted a zero payment only when all attempted answers were\\nwrong. Surprisingly, as we prove shortly, Algorithm 1 is the only incentive-compatible mechanism\\nthat satisfies no-free-lunch.\\nThe following theorem shows that the proposed payment mechanism indeed incentivizes a worker\\nto skip the questions for which her confidence is below T , while answering those for which her\\nconfidence is greater than T . In the latter case, the worker is incentivized to select the answer which\\nshe thinks is most likely to be correct.\\nTheorem 1. The payment mechanism of Algorithm 1 is incentive-compatible and satisfies the nofree-lunch condition.\\n2\\nSuch a payment function that is based on gold standard questions is also called a \\xe2\\x80\\x9cstrictly proper scoring\\nrule\\xe2\\x80\\x9d [GR07].\\n\\n4\\n\\n\\x0cThe proof of Theorem 1 is presented in Appendix A. It is easy to see that the mechanism satisfies nofree-lunch. The proof of incentive compatibility is also not hard: We consider any arbitrary worker\\n(with arbitrary belief distributions), and compute the expected payment for that worker for the case\\nwhen her choices in the task follow the requirements. We then show that any other choice leads to a\\nstrictly smaller expected payment.\\nWhile we started out with a very weak condition of no-free-lunch of making a zero payment when\\nall attempted answers are wrong, the mechanism proposed in Algorithm 1 is significantly more\\nstrict and makes a zero payment when any of the attempted answers is wrong. A natural question\\nthat arises is: can we design an alternative mechanism satisfying incentive compatibility and nofree-lunch that operates somewhere in between?\\n3.2\\n\\nUniqueness of the Mechanism\\n\\nIn the previous section we showed that our proposed multiplicative mechanism is incentive compatible and satisfies the intuitive requirement of no-free-lunch. It turns out, perhaps surprisingly, that\\nthis mechanism is unique in this respect.\\nTheorem 2. The payment mechanism of Algorithm 1 is the only incentive-compatible mechanism\\nthat satisfies the no-free-lunch condition.\\nTheorem 2 gives a strong result despite imposing very weak requirements. To see this, recall our earlier discussion on deterring spammers, that is, incurring a low expenditure on workers who answer\\nrandomly. For instance, when the task comprises binary-choice questions, one may wish to design\\nmechanisms which make a zero payment when the responses to 50% or more of the questions in the\\ngold standard are incorrect. The no-free-lunch axiom is a much weaker requirement, and the only\\nmechanism that can satisfy this requirement is the mechanism of Algorithm 1.\\nThe proof of Theorem 2 is available in Appendix B. The proof relies on the following key lemma\\nthat establishes a condition that any incentive-compatible mechanism must necessarily satisfy. The\\nlemma applies to any incentive-compatible mechanism and not just to those satisfying no-free-lunch.\\nLemma. Any incentive-compatible payment mechanism f must satisfy, for every i 2 {1, . . . , G}\\nand every (y1 , . . . , yi 1 , yi+1 , . . . , yG ) 2 { 1, 0, 1}G 1 ,\\nT f (y1 , . . . , yi\\n\\n1 , 1, yi+1 , . . . , yG )\\n\\n+ (1\\n\\nT )f (y1 , . . . , yi 1 , 1, yi+1 , . . . , yG )\\n= f (y1 , . . . , yi 1 , 0, yi+1 , . . . , yG ).\\n\\nThe proof of this lemma is provided in Appendix C. Given this lemma, the proof of Theorem 2 is\\nthen completed via an induction on the number of skipped questions.\\n3.3\\n\\nOptimality against Spamming Behavior\\n\\nAs discussed earlier, crowdsouring tasks, especially those with multiple choice questions, often\\nencounter spammers who answer randomly without heed to the question being asked. For instance,\\nunder a binary-choice setup, a spammer will choose one of the two options uniformly at random for\\nevery question. A highly desirable objective in crowdsourcing settings is to deter spammers. To this\\nend, one may wish to impose a condition of zero payment when the responses to 50% or more of\\nthe attempted questions in the gold standard are incorrect. A second desirable metric could be to\\nminimize the expenditure on a worker who simply skips all questions. While the aforementioned\\nrequirements were deterministic functions of the worker\\xe2\\x80\\x99s responses, one may alternatively wish to\\nimpose requirements that depend on the distribution of the worker\\xe2\\x80\\x99s answering process. For instance,\\na third desirable feature would be to minimize the expected payment to a worker who answers all\\nquestions uniformly at random. We now show that interestingly, our unique multiplicative payment\\nmechanism simultaneously satisfies all these requirements. The result is stated assuming a multiplechoice setup, but extends trivially to non-multiple-choice settings.\\nTheorem 3.A (Distributional). Consider any value A 2 {0, . . . , G}. Among all incentivecompatible mechanisms (that may or may not satisfy no-free-lunch), Algorithm 1 strictly minimizes\\nthe expenditure on a worker who skips some A of the questions in the the gold standard, and chooses\\nanswers to the remaining (G A) questions uniformly at random.\\n5\\n\\n\\x0cTheorem 3.B (Deterministic). Consider any value B 2 (0, 1]. Among all incentive-compatible\\nmechanisms (that may or may not satisfy no-free-lunch), Algorithm 1 strictly minimizes the expenditure on a worker who gives incorrect answers to a fraction B or more of the questions attempted\\nin the gold standard.\\nThe proof of Theorem 3 is presented in Appendix D. We see from this result that the multiplicative\\npayment mechanism of Algorithm 1 thus possesses very useful properties geared to deter spammers,\\nwhile ensuring that a good worker will be paid a high enough amount.\\nTo illustrate this point, let us compare the mechanism of Algorithm 1 with the popular additive class\\nof payment mechanisms.\\nExample 1. Consider the popular class of \\xe2\\x80\\x9cadditive\\xe2\\x80\\x9d mechanisms, where the payments to a worker\\nare added across the gold standard questions. This additive payment mechanism offers a reward of\\n\\xc2\\xb5\\n\\xc2\\xb5T\\nG for every correct answer in the gold standard, G for every question skipped, and 0 for every\\nincorrect answer. Importantly, the final payment to the worker is the sum of the rewards across the\\nG gold standard questions. One can verify that this additive mechanism is incentive compatible.\\nOne can also see that that as guaranteed by our theory, this additive payment mechanism does not\\nsatisfy the no-free-lunch axiom.\\nSuppose each question involves choosing from two options. Let us compute the expenditure that\\nthese two mechanisms make under a spamming behavior of choosing the answer randomly to each\\nquestion. Given the 50% likelihood of each question being correct, on can compute that the additive\\nmechanism makes a payment of \\xc2\\xb52 in expectation. On the other hand, our mechanism pays an\\nexpected amount of only \\xc2\\xb52 G . The payment to spammers thus reduces exponentially with the\\nnumber of gold standard questions under our mechanism, whereas it does not reduce at all in the\\nadditive mechanism.\\nNow, consider a different means of exploiting the mechanism(s) where the worker simply skips all\\nquestions. To this end, observe that if a worker skips all the questions then the additive payment\\nmechanism will incur an expenditure of \\xc2\\xb5T . On the other hand, the proposed payment mechanism\\nof Algorithm 1 pays an exponentially smaller amount of \\xc2\\xb5T G (recall that T < 1).\\n\\n4\\n\\nSimulations and Experiments\\n\\nIn this section, we present synthetic simulations and real-world experiments to evaluate the effects\\nof our setting and our mechanism on the final label quality.\\n4.1\\n\\nSynthetic Simulations\\n\\nWe employ synthetic simulations to understand the effects of various kinds of labeling errors in\\ncrowdsourcing. We consider binary-choice questions in this set of simulations. Whenever a worker\\nanswers a question, her confidence for the correct answer is drawn from a distribution P independent\\nof all else. We investigate the effects of the following five choices of the distribution P:\\n\\xe2\\x80\\xa2\\n\\xe2\\x80\\xa2\\n\\xe2\\x80\\xa2\\n\\xe2\\x80\\xa2\\n\\xe2\\x80\\xa2\\n\\nThe uniform distribution on the support [0.5, 1].\\nA triangular distribution with lower end-point 0.2, upper end-point 1 and a mode of 0.6.\\nA beta distribution with parameter values \\xe2\\x86\\xb5 = 5 and = 1.\\nThe hammer-spammer distribution [KOS11], that is, uniform on the discrete set {0.5, 1}.\\nA truncated Gaussian distribution: a truncation of N (0.75, 0.5) to the interval [0, 1].\\n\\nWhen a worker has a confidence p (drawn from the distribution P) and attempts the question, the\\nprobability of making an error equals (1 p).\\nWe compare (a) the setting where workers attempt every question, with (b) the setting where workers\\nskip questions for which their confidence is below a certain threshold T . In this set of simulations,\\nwe set T = 0.75. In either setting, we aggregate the labels obtained from the workers for each\\nquestion via a majority vote on the two classes. Ties are broken by choosing one of the two options\\nuniformly at random.\\n6\\n\\n\\x0cFigure 2: Error under different interfaces for synthetic simulations of five distributions of the workers\\xe2\\x80\\x99 error probabilities.\\n\\nFigure 2 depicts the results from these simulations. Each bar represents the fraction of questions that\\nare labeled incorrectly, and is an average across 50,000 trials. (The standard error of the mean is too\\nsmall to be visible.) We see that the skip-based setting consistently outperforms the conventional\\nsetting, and the gains obtained are moderate to high depending on the underlying distribution of the\\nworkers\\xe2\\x80\\x99 errors. In particular, the gains are quite striking under the hammer-spammer model: this\\nresult is not surprising since the mechanism (ideally) screens the spammers out and leaves only the\\nhammers who answer perfectly.\\n\\n4.2\\n\\nExperiments on Amazon Mechanical Turk\\n\\nWe conducted preliminary experiments on the Amazon Mechanical Turk commercial crowdsourcing\\nplatform (mturk.com) to evaluate our proposed scheme in real-world scenarios. The complete\\ndata, including the interface presented to the workers in each of the tasks, the results obtained from\\nthe workers, and the ground truth solutions, are available on the website of the first author.\\nGoal. Before delving into details, we first note certain caveats relating to such a study of mechanism design on crowdsourcing platforms. When a worker encounters a mechanism for only a\\nsmall amount of time (a handful of tasks in typical research experiments) and for a small amount of\\nmoney (at most a few dollars in typical crowdsourcing tasks), we cannot expect the worker to completely understand the mechanism and act precisely as required. For instance, we wouldn\\xe2\\x80\\x99t expect\\nour experimental results to change significantly even upon moderate modifications in the promised\\namounts, and furthermore, we do expect the outcomes to be noisy. Incentive compatibility kicks\\nin when the worker encounters a mechanism across a longer term, for example, when a proposed\\nmechanism is adopted as a standard for a platform, or when higher amounts are involved. This is\\nwhen we would expect workers or others (e.g., bloggers or researchers) to design strategies that can\\ngame the mechanism. The theoretical guarantee of incentive compatibility or strict properness then\\nprevents such gaming in the long run.\\nWe thus regard these experiments as preliminary. Our intentions towards this experimental exercise\\nwere (a) to evaluate the potential of our algorithms to work in practice, and (b) to investigate the\\neffect of the proposed algorithms on the net error in the collected labelled data.\\nExperimental setup. We conducted the five following experiments (\\xe2\\x80\\x9ctasks\\xe2\\x80\\x9d) on Amazon Mechanical Turk: (a) identifying the golden gate bridge from pictures, (b) identifying the breeds of dogs\\nfrom pictures, (c) identifying heads of countries, (d) identifying continents to which flags belong,\\nand (e) identifying the textures in displayed images. Each of these tasks comprised 20 to 126 multi7\\n\\n\\x0cFigure 3: Error under different interfaces and mechanisms for five experiments conducted on Mechanical Turk.\\nple choice questions.3 For each experiment, we compared (i) a baseline setting (Figure 1a) with an\\nadditive payment mechanism that pays a fixed amount per correct answer, and (ii) our skip-based\\nsetting (Figure 1b) with the multiplicative mechanism of Algorithm 1. For each experiment, and for\\neach of the two settings, we had 35 workers independently perform the task.\\nUpon completion of the tasks on Amazon Mechanical Turk, we aggregated the data in the following\\nmanner. For each mechanism in each experiment, we subsampled 3, 5, 7, 9 and 11 workers, and\\ntook a majority vote of their responses. We averaged the accuracy across all questions and across\\n1, 000 iterations of this subsample-and-aggregate procedure.\\nResults. Figure 3 reports the error in the aggregate data in the five experiments. We see that in\\nmost cases, our skip-based setting results in a higher quality data, and in many of the instances, the\\nreduction is two-fold or higher. All in all, in the experiments, we observed a substantial reduction in\\nthe amount of error in the labelled data while expending the same or lower amounts and receiving\\nno negative comments from the workers. These observations suggest that our proposed skip-based\\nsetting coupled with our multiplicative payment mechanisms have potential to work in practice; the\\nunderlying fundamental theory ensures that the system cannot be gamed in the long run.\\n\\n5\\n\\nDiscussion and Conclusions\\n\\nIn an extended version of this paper [SZ14], we generalize the \\xe2\\x80\\x9cskip-based\\xe2\\x80\\x9d setting considered here\\nto one where we also elicit the workers\\xe2\\x80\\x99 confidence about their answers. Moreover, in a companion\\npaper [SZP15], we construct mechanisms to elicit the support of worker\\xe2\\x80\\x99s beliefs.\\nOur mechanism offers some additional benefits. The pattern of skips of the workers provide a reasonable estimate of the difficulty of each question. In practice, the questions that are estimated to\\nbe more difficult may now be delegated to an expert or to additional non-expert workers. Secondly,\\nthe theoretical guarantees of our mechanism may allow for better post-processing of the data, incorporating the confidence information and improving the overall accuracy. Developing statistical\\naggregation algorithms or augmenting existing ones (e.g., [RYZ+ 10, KOS11, LPI12, ZLP+ 15]) for\\nthis purpose is a useful direction of research. Thirdly, the simplicity of our mechanisms may facilitate an easier adoption among the workers. In conclusion, given the uniqueness and optimality\\nin theory, simplicity, and good performance observed in practice, we envisage our multiplicative\\npayment mechanisms to be of interest to practitioners as well as researchers who employ crowdsourcing.\\n\\n3\\nSee the extended version of this paper [SZ14] for additional experiments involving free-form responses,\\nsuch as text transcription.\\n\\n8\\n\\n\\x0cReferences\\n[Boh11]\\n\\nJohn Bohannon. Social science for pennies. Science, 334(6054):307\\xe2\\x80\\x93307, 2011.\\n\\n[CBW 10]\\n\\nAndrew Carlson, Justin Betteridge, Richard C Wang, Estevam R Hruschka Jr, and\\nTom M Mitchell. Coupled semi-supervised learning for information extraction. In\\nACM WSDM, pages 101\\xe2\\x80\\x93110, 2010.\\n\\n[DDS+ 09]\\n\\nJia Deng, Wei Dong, Richard Socher, Li-Jia Li, Kai Li, and Li Fei-Fei. Imagenet: A\\nlarge-scale hierarchical image database. In IEEE Conference on Computer Vision and\\nPattern Recognition, pages 248\\xe2\\x80\\x93255, 2009.\\n\\n[Dou14]\\n\\nDouble or Nothing. http://wikipedia.org/wiki/Double_or_nothing,\\n2014. Last accessed: July 31, 2014.\\n\\n[GR07]\\n\\nTilmann Gneiting and Adrian E Raftery. Strictly proper scoring rules, prediction, and\\nestimation. Journal of the American Statistical Association, 102(477):359\\xe2\\x80\\x93378, 2007.\\n\\n[HDY+ 12]\\n\\nGeoffrey Hinton, Li Deng, Dong Yu, George E Dahl, Abdel-rahman Mohamed,\\nNavdeep Jaitly, Andrew Senior, Vincent Vanhoucke, Patrick Nguyen, Tara N Sainath,\\net al. Deep neural networks for acoustic modeling in speech recognition: The shared\\nviews of four research groups. IEEE Signal Processing Magazine, 29(6):82\\xe2\\x80\\x9397, 2012.\\nPanagiotis G Ipeirotis, Foster Provost, Victor S Sheng, and Jing Wang. Repeated\\nlabeling using multiple noisy labelers. Data Mining and Knowledge Discovery,\\n28(2):402\\xe2\\x80\\x93441, 2014.\\n\\n+\\n\\n[IPSW14]\\n[JSV14]\\n\\nSrikanth Jagabathula, Lakshminarayanan Subramanian, and Ashwin Venkataraman.\\nReputation-based worker filtering in crowdsourcing. In Advances in Neural Information Processing Systems 27, pages 2492\\xe2\\x80\\x932500, 2014.\\n\\n[KKKMF11] Gabriella Kazai, Jaap Kamps, Marijn Koolen, and Natasa Milic-Frayling. Crowdsourcing for book search evaluation: impact of HIT design on comparative system\\nranking. In ACM SIGIR, pages 205\\xe2\\x80\\x93214, 2011.\\n[KOS11]\\n\\nDavid R Karger, Sewoong Oh, and Devavrat Shah. Iterative learning for reliable\\ncrowdsourcing systems. In Advances in neural information processing systems, pages\\n1953\\xe2\\x80\\x931961, 2011.\\n\\n[LPI12]\\n\\nQiang Liu, Jian Peng, and Alexander T Ihler. Variational inference for crowdsourcing.\\nIn NIPS, pages 701\\xe2\\x80\\x93709, 2012.\\n\\n[RYZ+ 10]\\n\\nVikas C Raykar, Shipeng Yu, Linda H Zhao, Gerardo Hermosillo Valadez, Charles\\nFlorin, Luca Bogoni, and Linda Moy. Learning from crowds. The Journal of Machine\\nLearning Research, 11:1297\\xe2\\x80\\x931322, 2010.\\n\\n[SZ14]\\n\\nNihar B Shah and Dengyong Zhou. Double or nothing: Multiplicative incentive\\nmechanisms for crowdsourcing. arXiv:1408.1387, 2014.\\n\\n[SZP15]\\n\\nNihar B Shah, Dengyong Zhou, and Yuval Peres. Approval voting and incentives in\\ncrowdsourcing. In International Conference on Machine Learning (ICML), 2015.\\n\\n[VdVE11]\\n\\nJeroen Vuurens, Arjen P de Vries, and Carsten Eickhoff. How much spam can you\\ntake? An analysis of crowdsourcing results to increase accuracy. In ACM SIGIR\\nWorkshop on Crowdsourcing for Information Retrieval, pages 21\\xe2\\x80\\x9326, 2011.\\n\\n[WLC+ 10]\\n\\nPaul Wais, Shivaram Lingamneni, Duncan Cook, Jason Fennell, Benjamin Goldenberg, Daniel Lubarov, David Marin, and Hari Simons. Towards building a highquality workforce with Mechanical Turk. NIPS workshop on computational social\\nscience and the wisdom of crowds, 2010.\\n\\n[ZLP+ 15]\\n\\nDengyong Zhou, Qiang Liu, John C Platt, Christopher Meek, and Nihar B\\nShah. Regularized minimax conditional entropy for crowdsourcing. arXiv preprint\\narXiv:1503.07240, 2015.\\n\\n9\\n\\n\\x0c'"
      ]
     },
     "execution_count": 6,
     "metadata": {},
     "output_type": "execute_result"
    }
   ],
   "source": [
    "papers_data[0]['PaperText']"
   ]
  },
  {
   "cell_type": "code",
   "execution_count": 7,
   "metadata": {
    "collapsed": false
   },
   "outputs": [
    {
     "data": {
      "text/plain": [
       "'Deep structured output learning shows great promise in tasks like semantic image segmentation. We proffer a new, efficient deep structured model learning scheme, in which we show how deep Convolutional Neural Networks (CNNs) can be used to directly estimate the messages in message passing inference for structured prediction with Conditional Random Fields CRFs). With such CNN message estimators, we obviate the need to learn or evaluate potential functions for message calculation. This confers significant efficiency for learning, since otherwise when performing structured learning for a CRF with CNN potentials it is necessary to undertake expensive inference for every stochastic gradient iteration. The network output dimension of message estimators is the same as the number of classes, rather than exponentially growing in the order of the potentials. Hence it is more scalable for cases that a large number of classes are involved. We apply our method to semantic image segmentation and achieve impressive performance, which demonstrates the effectiveness and usefulness of our CNN message learning method.'"
      ]
     },
     "execution_count": 7,
     "metadata": {},
     "output_type": "execute_result"
    }
   ],
   "source": [
    "papers_data[40]['Abstract']"
   ]
  },
  {
   "cell_type": "markdown",
   "metadata": {},
   "source": [
    "## So let's start with Abstract first:"
   ]
  },
  {
   "cell_type": "code",
   "execution_count": 8,
   "metadata": {
    "collapsed": false
   },
   "outputs": [
    {
     "data": {
      "text/plain": [
       "dtype: dict\n",
       "Rows: 1\n",
       "[{'all': 1, 'show': 2, 'skip': 1, 'over': 1, 'cheap': 1, 'mild': 1, 'experiments': 1, 'mechanism': 7, 'questions': 1, 'possible.': 1, 'workers': 1, 'to': 4, 'only': 2, 'under': 2, 'has': 1, 'propose': 1, 'possible': 2, 'they': 1, 'not': 1, 'unique': 2, 'form.': 1, 'large': 1, 'multiplicative': 1, 'sure': 1, 'are': 1, 'our': 2, 'for': 2, 'smallest': 1, 'rest.': 1, 'benefit.': 1, '(that': 1, 'satisfy': 1, 'we': 4, 'incentive-compatible': 2, 'mechanisms': 1, 'monetary': 1, 'crowdsourcing,': 1, 'interestingly,': 1, 'workers,': 1, 'gained': 1, 'surprisingly,': 1, 'of': 4, 'makes': 1, 'or': 2, 'among': 1, 'simple': 1, 'fast,': 1, 'obtaining': 1, 'one': 1, 'learning': 1, 'spammers.': 1, 'from': 1, 'takes': 1, 'crowdsourcing': 2, 'immense': 1, 'reduction': 1, 'rates': 1, 'hundred': 1, 'no-free-lunch': 1, 'that': 3, 'but': 1, 'observe': 1, 'low-quality': 1, 'this': 3, 'challenge': 1, 'labeled': 1, 'no-free-lunch),': 1, 'error': 1, 'problem': 1, 'address': 1, 'and': 4, 'is': 3, 'an': 1, 'in': 4, 'incentivize': 1, 'data.': 2, 'amounts': 1, 'same': 1, 'machine': 1, 'also': 1, 'answer': 1, 'several': 1, 'simplicity': 1, 'added': 1, 'may': 2, 'applications': 1, 'involving': 1, 'significant': 1, 'preliminary': 1, 'payment': 3, 'a': 4, 'lower': 1, 'suffers': 1, 'natural': 1, 'popularity': 1, 'fundamental': 1, 'the': 9, 'requirement,': 1, 'expenditure.': 1}]"
      ]
     },
     "execution_count": 8,
     "metadata": {},
     "output_type": "execute_result"
    }
   ],
   "source": [
    "first_paper = papers_data[papers_data['Id'] == 5677]\n",
    "first_paper['word_count'] = graphlab.text_analytics.count_words(first_paper['Abstract'])\n",
    "first_paper['word_count']"
   ]
  },
  {
   "cell_type": "code",
   "execution_count": 9,
   "metadata": {
    "collapsed": false
   },
   "outputs": [],
   "source": [
    "papers_data['word_count'] = graphlab.text_analytics.count_words(papers_data['Abstract'])\n",
    "tfidf = graphlab.text_analytics.tf_idf(papers_data['word_count'])\n",
    "papers_data['tf_idf'] = tfidf"
   ]
  },
  {
   "cell_type": "code",
   "execution_count": 10,
   "metadata": {
    "collapsed": true
   },
   "outputs": [],
   "source": [
    "### create a function that gets a paper_data and paper ID and gives the important keywords sorted by tf-idf\n",
    "def keywords_given_paperID(papers_data, paper_id):\n",
    "    paper = papers_data[papers_data['Id']== paper_id]\n",
    "    keywords = paper[['tf_idf']].stack('tf_idf', new_column_name=['word', 'tf_idf']).sort('tf_idf', ascending=False)\n",
    "    return keywords"
   ]
  },
  {
   "cell_type": "code",
   "execution_count": 11,
   "metadata": {
    "collapsed": false
   },
   "outputs": [
    {
     "name": "stdout",
     "output_type": "stream",
     "text": [
      "+----------------------+---------------+\n",
      "|         word         |     tf_idf    |\n",
      "+----------------------+---------------+\n",
      "|      mechanism       | 27.4364651419 |\n",
      "|       payment        | 17.9968096858 |\n",
      "| incentive-compatible | 10.6115787628 |\n",
      "|    crowdsourcing     | 9.80064854656 |\n",
      "|        unique        | 8.77899729903 |\n",
      "|       possible       |  6.2171296081 |\n",
      "|    surprisingly,     | 5.99893656195 |\n",
      "|     requirement,     | 5.99893656195 |\n",
      "|       immense        | 5.99893656195 |\n",
      "|        (that         | 5.99893656195 |\n",
      "+----------------------+---------------+\n",
      "[99 rows x 2 columns]\n",
      "Note: Only the head of the SFrame is printed.\n",
      "You can use print_rows(num_rows=m, num_columns=n) to print more rows and columns.\n"
     ]
    }
   ],
   "source": [
    "# try the keywords_func on the first paper the id is 5677\n",
    "print keywords_given_paperID(papers_data, 5677)"
   ]
  },
  {
   "cell_type": "markdown",
   "metadata": {},
   "source": [
    "## Build a knn_model:"
   ]
  },
  {
   "cell_type": "code",
   "execution_count": 12,
   "metadata": {
    "collapsed": false
   },
   "outputs": [
    {
     "name": "stdout",
     "output_type": "stream",
     "text": [
      "PROGRESS: Starting brute force nearest neighbors model training.\n"
     ]
    }
   ],
   "source": [
    "knn_model = graphlab.nearest_neighbors.create(papers_data, features=['tf_idf'], label='Id') "
   ]
  },
  {
   "cell_type": "code",
   "execution_count": 13,
   "metadata": {
    "collapsed": false
   },
   "outputs": [
    {
     "data": {
      "text/plain": [
       "dtype: int\n",
       "Rows: 5\n",
       "[5677, 5880, 5995, 5842, 5955]"
      ]
     },
     "execution_count": 13,
     "metadata": {},
     "output_type": "execute_result"
    }
   ],
   "source": [
    "knn_model.query(papers_data[papers_data['Id']== 5677], verbose=False)['reference_label']"
   ]
  },
  {
   "cell_type": "code",
   "execution_count": 14,
   "metadata": {
    "collapsed": true
   },
   "outputs": [],
   "source": [
    "## create a func that gets a knn_model, authors_data and a paper Id and gives the similar  paper Id and the name of authours\n",
    "def similar_authors_to_given_paper(knnModel, author_data, author_id_data, paper_id):\n",
    "    similar_paper_ids = knnModel.query(papers_data[papers_data['Id']== paper_id], verbose=False)['reference_label']\n",
    "    sim_id_author_list = []\n",
    "    for id in similar_paper_ids:\n",
    "        id_author_list = author_id_data[author_id_data['PaperId']==id]['AuthorId']\n",
    "        author_name_list = []\n",
    "        for id_author in id_author_list:\n",
    "            author_name = author_data[author_data['Id']==id_author]['Name'][0]\n",
    "            author_name_list.append(author_name)\n",
    "        sim_id_author_list.append([id, author_name_list]) \n",
    "    return sim_id_author_list"
   ]
  },
  {
   "cell_type": "code",
   "execution_count": 15,
   "metadata": {
    "collapsed": false
   },
   "outputs": [
    {
     "name": "stdout",
     "output_type": "stream",
     "text": [
      "[[5677, ['Nihar Bhadresh Shah', 'Denny Zhou']], [5880, ['Pinar Yanardag', 'S.V.N. Vishwanathan']], [5995, ['Bo Waggoner', 'Rafael Frongillo', 'Jacob D. Abernethy']], [5842, ['Ofer Dekel', 'Ronen Eldan', 'Tomer Koren']], [5955, ['Xingjian SHI', 'Zhourong Chen', 'Hao Wang', 'Dit-Yan Yeung', 'Wai-kin Wong', 'Wang-chun WOO']]]\n"
     ]
    }
   ],
   "source": [
    "print similar_authors_to_given_paper(knn_model, authors_data, authorId_data, 5677)"
   ]
  },
  {
   "cell_type": "code",
   "execution_count": null,
   "metadata": {
    "collapsed": true
   },
   "outputs": [],
   "source": []
  }
 ],
 "metadata": {
  "kernelspec": {
   "display_name": "Python 2",
   "language": "python",
   "name": "python2"
  },
  "language_info": {
   "codemirror_mode": {
    "name": "ipython",
    "version": 2
   },
   "file_extension": ".py",
   "mimetype": "text/x-python",
   "name": "python",
   "nbconvert_exporter": "python",
   "pygments_lexer": "ipython2",
   "version": "2.7.10"
  }
 },
 "nbformat": 4,
 "nbformat_minor": 0
}
