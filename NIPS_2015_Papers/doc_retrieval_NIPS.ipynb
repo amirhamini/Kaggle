{
 "cells": [
  {
   "cell_type": "markdown",
   "metadata": {},
   "source": [
    "# NIPS Papers: Which papers are similar? "
   ]
  },
  {
   "cell_type": "code",
   "execution_count": 1,
   "metadata": {
    "collapsed": true
   },
   "outputs": [],
   "source": [
    "import graphlab\n",
    "import numpy as np\n",
    "import pandas as pd"
   ]
  },
  {
   "cell_type": "markdown",
   "metadata": {},
   "source": [
    "### Let's discover what data we have:"
   ]
  },
  {
   "cell_type": "code",
   "execution_count": 2,
   "metadata": {
    "collapsed": false
   },
   "outputs": [
    {
     "name": "stderr",
     "output_type": "stream",
     "text": [
      "[INFO] \u001b[1;32m1452309862 : INFO:     (initialize_globals_from_environment:282): Setting configuration variable GRAPHLAB_FILEIO_ALTERNATIVE_SSL_CERT_FILE to /Library/Python/2.7/site-packages/certifi/cacert.pem\n",
      "\u001b[0m\u001b[1;32m1452309862 : INFO:     (initialize_globals_from_environment:282): Setting configuration variable GRAPHLAB_FILEIO_ALTERNATIVE_SSL_CERT_DIR to \n",
      "\u001b[0mThis non-commercial license of GraphLab Create is assigned to aminia@u.washington.edu and will expire on November 11, 2016. For commercial licensing options, visit https://dato.com/buy/.\n",
      "\n",
      "[INFO] Start server at: ipc:///tmp/graphlab_server-3122 - Server binary: /Library/Python/2.7/site-packages/graphlab/unity_server - Server log: /tmp/graphlab_server_1452309862.log\n",
      "[INFO] GraphLab Server Version: 1.7.1\n"
     ]
    }
   ],
   "source": [
    "papers_df = pd.read_csv('Data/output/Papers.csv')\n",
    "papers_data = graphlab.SFrame(data = papers_df)\n",
    "authors_df = pd.read_csv('Data/output/Authors.csv')\n",
    "authors_data = graphlab.SFrame(data = authors_df)\n",
    "authorId_df = pd.read_csv('Data/output/PaperAuthors.csv')\n",
    "authorId_data = graphlab.SFrame(data = authorId_df)"
   ]
  },
  {
   "cell_type": "code",
   "execution_count": 3,
   "metadata": {
    "collapsed": false
   },
   "outputs": [
    {
     "data": {
      "text/html": [
       "<div style=\"max-height:1000px;max-width:1500px;overflow:auto;\"><table frame=\"box\" rules=\"cols\">\n",
       "    <tr>\n",
       "        <th style=\"padding-left: 1em; padding-right: 1em; text-align: center\">Id</th>\n",
       "        <th style=\"padding-left: 1em; padding-right: 1em; text-align: center\">Title</th>\n",
       "        <th style=\"padding-left: 1em; padding-right: 1em; text-align: center\">EventType</th>\n",
       "        <th style=\"padding-left: 1em; padding-right: 1em; text-align: center\">PdfName</th>\n",
       "        <th style=\"padding-left: 1em; padding-right: 1em; text-align: center\">Abstract</th>\n",
       "    </tr>\n",
       "    <tr>\n",
       "        <td style=\"padding-left: 1em; padding-right: 1em; text-align: center; vertical-align: top\">5677</td>\n",
       "        <td style=\"padding-left: 1em; padding-right: 1em; text-align: center; vertical-align: top\">Double or Nothing:<br>Multiplicative Incentive ...</td>\n",
       "        <td style=\"padding-left: 1em; padding-right: 1em; text-align: center; vertical-align: top\">Poster</td>\n",
       "        <td style=\"padding-left: 1em; padding-right: 1em; text-align: center; vertical-align: top\">5677-double-or-nothing-<br>multiplicative-incent ...</td>\n",
       "        <td style=\"padding-left: 1em; padding-right: 1em; text-align: center; vertical-align: top\">Crowdsourcing has gained<br>immense popularity in ...</td>\n",
       "    </tr>\n",
       "    <tr>\n",
       "        <td style=\"padding-left: 1em; padding-right: 1em; text-align: center; vertical-align: top\">5941</td>\n",
       "        <td style=\"padding-left: 1em; padding-right: 1em; text-align: center; vertical-align: top\">Learning with Symmetric<br>Label Noise: The ...</td>\n",
       "        <td style=\"padding-left: 1em; padding-right: 1em; text-align: center; vertical-align: top\">Spotlight</td>\n",
       "        <td style=\"padding-left: 1em; padding-right: 1em; text-align: center; vertical-align: top\">5941-learning-with-<br>symmetric-label-noise- ...</td>\n",
       "        <td style=\"padding-left: 1em; padding-right: 1em; text-align: center; vertical-align: top\">Convex potential<br>minimisation is the de ...</td>\n",
       "    </tr>\n",
       "    <tr>\n",
       "        <td style=\"padding-left: 1em; padding-right: 1em; text-align: center; vertical-align: top\">6019</td>\n",
       "        <td style=\"padding-left: 1em; padding-right: 1em; text-align: center; vertical-align: top\">Algorithmic Stability and<br>Uniform Generalization ...</td>\n",
       "        <td style=\"padding-left: 1em; padding-right: 1em; text-align: center; vertical-align: top\">Poster</td>\n",
       "        <td style=\"padding-left: 1em; padding-right: 1em; text-align: center; vertical-align: top\">6019-algorithmic-<br>stability-and-uniform- ...</td>\n",
       "        <td style=\"padding-left: 1em; padding-right: 1em; text-align: center; vertical-align: top\">One of the central<br>questions in statistical ...</td>\n",
       "    </tr>\n",
       "    <tr>\n",
       "        <td style=\"padding-left: 1em; padding-right: 1em; text-align: center; vertical-align: top\">6035</td>\n",
       "        <td style=\"padding-left: 1em; padding-right: 1em; text-align: center; vertical-align: top\">Adaptive Low-Complexity<br>Sequential Inference for ...</td>\n",
       "        <td style=\"padding-left: 1em; padding-right: 1em; text-align: center; vertical-align: top\">Poster</td>\n",
       "        <td style=\"padding-left: 1em; padding-right: 1em; text-align: center; vertical-align: top\">6035-adaptive-low-<br>complexity-sequential- ...</td>\n",
       "        <td style=\"padding-left: 1em; padding-right: 1em; text-align: center; vertical-align: top\">We develop a sequential<br>low-complexity inference ...</td>\n",
       "    </tr>\n",
       "    <tr>\n",
       "        <td style=\"padding-left: 1em; padding-right: 1em; text-align: center; vertical-align: top\">5978</td>\n",
       "        <td style=\"padding-left: 1em; padding-right: 1em; text-align: center; vertical-align: top\">Covariance-Controlled<br>Adaptive Langevin ...</td>\n",
       "        <td style=\"padding-left: 1em; padding-right: 1em; text-align: center; vertical-align: top\">Poster</td>\n",
       "        <td style=\"padding-left: 1em; padding-right: 1em; text-align: center; vertical-align: top\">5978-covariance-<br>controlled-adaptive- ...</td>\n",
       "        <td style=\"padding-left: 1em; padding-right: 1em; text-align: center; vertical-align: top\">Monte Carlo sampling for<br>Bayesian posterior ...</td>\n",
       "    </tr>\n",
       "</table>\n",
       "<table frame=\"box\" rules=\"cols\">\n",
       "    <tr>\n",
       "        <th style=\"padding-left: 1em; padding-right: 1em; text-align: center\">PaperText</th>\n",
       "    </tr>\n",
       "    <tr>\n",
       "        <td style=\"padding-left: 1em; padding-right: 1em; text-align: center; vertical-align: top\">Double or Nothing:<br>Multiplicative\\nIncen ...</td>\n",
       "    </tr>\n",
       "    <tr>\n",
       "        <td style=\"padding-left: 1em; padding-right: 1em; text-align: center; vertical-align: top\">Learning with Symmetric<br>Label Noise: ...</td>\n",
       "    </tr>\n",
       "    <tr>\n",
       "        <td style=\"padding-left: 1em; padding-right: 1em; text-align: center; vertical-align: top\">Algorithmic Stability and<br>Uniform ...</td>\n",
       "    </tr>\n",
       "    <tr>\n",
       "        <td style=\"padding-left: 1em; padding-right: 1em; text-align: center; vertical-align: top\">Adaptive Low-Complexity<br>Sequential Inference ...</td>\n",
       "    </tr>\n",
       "    <tr>\n",
       "        <td style=\"padding-left: 1em; padding-right: 1em; text-align: center; vertical-align: top\">Covariance-Controlled<br>Adaptive ...</td>\n",
       "    </tr>\n",
       "</table>\n",
       "[5 rows x 6 columns]<br/>\n",
       "</div>"
      ],
      "text/plain": [
       "Columns:\n",
       "\tId\tint\n",
       "\tTitle\tstr\n",
       "\tEventType\tstr\n",
       "\tPdfName\tstr\n",
       "\tAbstract\tstr\n",
       "\tPaperText\tstr\n",
       "\n",
       "Rows: 5\n",
       "\n",
       "Data:\n",
       "+------+-------------------------------+-----------+\n",
       "|  Id  |             Title             | EventType |\n",
       "+------+-------------------------------+-----------+\n",
       "| 5677 | Double or Nothing: Multipl... |   Poster  |\n",
       "| 5941 | Learning with Symmetric La... | Spotlight |\n",
       "| 6019 | Algorithmic Stability and ... |   Poster  |\n",
       "| 6035 | Adaptive Low-Complexity Se... |   Poster  |\n",
       "| 5978 | Covariance-Controlled Adap... |   Poster  |\n",
       "+------+-------------------------------+-----------+\n",
       "+-------------------------------+-------------------------------+\n",
       "|            PdfName            |            Abstract           |\n",
       "+-------------------------------+-------------------------------+\n",
       "| 5677-double-or-nothing-mul... | Crowdsourcing has gained i... |\n",
       "| 5941-learning-with-symmetr... | Convex potential minimisat... |\n",
       "| 6019-algorithmic-stability... | One of the central questio... |\n",
       "| 6035-adaptive-low-complexi... | We develop a sequential lo... |\n",
       "| 5978-covariance-controlled... | Monte Carlo sampling for B... |\n",
       "+-------------------------------+-------------------------------+\n",
       "+-------------------------------+\n",
       "|           PaperText           |\n",
       "+-------------------------------+\n",
       "| Double or Nothing: Multipl... |\n",
       "| Learning with Symmetric La... |\n",
       "| Algorithmic Stability and ... |\n",
       "| Adaptive Low-Complexity Se... |\n",
       "| Covariance-Controlled Adap... |\n",
       "+-------------------------------+\n",
       "[5 rows x 6 columns]"
      ]
     },
     "execution_count": 3,
     "metadata": {},
     "output_type": "execute_result"
    }
   ],
   "source": [
    "papers_data.head(5)"
   ]
  },
  {
   "cell_type": "code",
   "execution_count": 4,
   "metadata": {
    "collapsed": false
   },
   "outputs": [
    {
     "data": {
      "text/html": [
       "<div style=\"max-height:1000px;max-width:1500px;overflow:auto;\"><table frame=\"box\" rules=\"cols\">\n",
       "    <tr>\n",
       "        <th style=\"padding-left: 1em; padding-right: 1em; text-align: center\">Id</th>\n",
       "        <th style=\"padding-left: 1em; padding-right: 1em; text-align: center\">Name</th>\n",
       "    </tr>\n",
       "    <tr>\n",
       "        <td style=\"padding-left: 1em; padding-right: 1em; text-align: center; vertical-align: top\">4113</td>\n",
       "        <td style=\"padding-left: 1em; padding-right: 1em; text-align: center; vertical-align: top\">Constantine Caramanis</td>\n",
       "    </tr>\n",
       "    <tr>\n",
       "        <td style=\"padding-left: 1em; padding-right: 1em; text-align: center; vertical-align: top\">4828</td>\n",
       "        <td style=\"padding-left: 1em; padding-right: 1em; text-align: center; vertical-align: top\">Richard L. Lewis</td>\n",
       "    </tr>\n",
       "    <tr>\n",
       "        <td style=\"padding-left: 1em; padding-right: 1em; text-align: center; vertical-align: top\">5506</td>\n",
       "        <td style=\"padding-left: 1em; padding-right: 1em; text-align: center; vertical-align: top\">Ryan Kiros</td>\n",
       "    </tr>\n",
       "    <tr>\n",
       "        <td style=\"padding-left: 1em; padding-right: 1em; text-align: center; vertical-align: top\">7331</td>\n",
       "        <td style=\"padding-left: 1em; padding-right: 1em; text-align: center; vertical-align: top\">Kfir Levy</td>\n",
       "    </tr>\n",
       "    <tr>\n",
       "        <td style=\"padding-left: 1em; padding-right: 1em; text-align: center; vertical-align: top\">8429</td>\n",
       "        <td style=\"padding-left: 1em; padding-right: 1em; text-align: center; vertical-align: top\">Wei Cao</td>\n",
       "    </tr>\n",
       "</table>\n",
       "[5 rows x 2 columns]<br/>\n",
       "</div>"
      ],
      "text/plain": [
       "Columns:\n",
       "\tId\tint\n",
       "\tName\tstr\n",
       "\n",
       "Rows: 5\n",
       "\n",
       "Data:\n",
       "+------+-----------------------+\n",
       "|  Id  |          Name         |\n",
       "+------+-----------------------+\n",
       "| 4113 | Constantine Caramanis |\n",
       "| 4828 |    Richard L. Lewis   |\n",
       "| 5506 |       Ryan Kiros      |\n",
       "| 7331 |       Kfir Levy       |\n",
       "| 8429 |        Wei Cao        |\n",
       "+------+-----------------------+\n",
       "[5 rows x 2 columns]"
      ]
     },
     "execution_count": 4,
     "metadata": {},
     "output_type": "execute_result"
    }
   ],
   "source": [
    "authors_data.head(5)"
   ]
  },
  {
   "cell_type": "code",
   "execution_count": 5,
   "metadata": {
    "collapsed": false
   },
   "outputs": [
    {
     "data": {
      "text/html": [
       "<div style=\"max-height:1000px;max-width:1500px;overflow:auto;\"><table frame=\"box\" rules=\"cols\">\n",
       "    <tr>\n",
       "        <th style=\"padding-left: 1em; padding-right: 1em; text-align: center\">Id</th>\n",
       "        <th style=\"padding-left: 1em; padding-right: 1em; text-align: center\">PaperId</th>\n",
       "        <th style=\"padding-left: 1em; padding-right: 1em; text-align: center\">AuthorId</th>\n",
       "    </tr>\n",
       "    <tr>\n",
       "        <td style=\"padding-left: 1em; padding-right: 1em; text-align: center; vertical-align: top\">1</td>\n",
       "        <td style=\"padding-left: 1em; padding-right: 1em; text-align: center; vertical-align: top\">5677</td>\n",
       "        <td style=\"padding-left: 1em; padding-right: 1em; text-align: center; vertical-align: top\">7956</td>\n",
       "    </tr>\n",
       "    <tr>\n",
       "        <td style=\"padding-left: 1em; padding-right: 1em; text-align: center; vertical-align: top\">2</td>\n",
       "        <td style=\"padding-left: 1em; padding-right: 1em; text-align: center; vertical-align: top\">5677</td>\n",
       "        <td style=\"padding-left: 1em; padding-right: 1em; text-align: center; vertical-align: top\">2649</td>\n",
       "    </tr>\n",
       "    <tr>\n",
       "        <td style=\"padding-left: 1em; padding-right: 1em; text-align: center; vertical-align: top\">3</td>\n",
       "        <td style=\"padding-left: 1em; padding-right: 1em; text-align: center; vertical-align: top\">5941</td>\n",
       "        <td style=\"padding-left: 1em; padding-right: 1em; text-align: center; vertical-align: top\">8299</td>\n",
       "    </tr>\n",
       "    <tr>\n",
       "        <td style=\"padding-left: 1em; padding-right: 1em; text-align: center; vertical-align: top\">4</td>\n",
       "        <td style=\"padding-left: 1em; padding-right: 1em; text-align: center; vertical-align: top\">5941</td>\n",
       "        <td style=\"padding-left: 1em; padding-right: 1em; text-align: center; vertical-align: top\">8300</td>\n",
       "    </tr>\n",
       "    <tr>\n",
       "        <td style=\"padding-left: 1em; padding-right: 1em; text-align: center; vertical-align: top\">5</td>\n",
       "        <td style=\"padding-left: 1em; padding-right: 1em; text-align: center; vertical-align: top\">5941</td>\n",
       "        <td style=\"padding-left: 1em; padding-right: 1em; text-align: center; vertical-align: top\">575</td>\n",
       "    </tr>\n",
       "</table>\n",
       "[5 rows x 3 columns]<br/>\n",
       "</div>"
      ],
      "text/plain": [
       "Columns:\n",
       "\tId\tint\n",
       "\tPaperId\tint\n",
       "\tAuthorId\tint\n",
       "\n",
       "Rows: 5\n",
       "\n",
       "Data:\n",
       "+----+---------+----------+\n",
       "| Id | PaperId | AuthorId |\n",
       "+----+---------+----------+\n",
       "| 1  |   5677  |   7956   |\n",
       "| 2  |   5677  |   2649   |\n",
       "| 3  |   5941  |   8299   |\n",
       "| 4  |   5941  |   8300   |\n",
       "| 5  |   5941  |   575    |\n",
       "+----+---------+----------+\n",
       "[5 rows x 3 columns]"
      ]
     },
     "execution_count": 5,
     "metadata": {},
     "output_type": "execute_result"
    }
   ],
   "source": [
    "authorId_data.head(5)"
   ]
  },
  {
   "cell_type": "markdown",
   "metadata": {},
   "source": [
    "# Goal: Find the papers that are similar based on abstract and full-text"
   ]
  },
  {
   "cell_type": "markdown",
   "metadata": {},
   "source": [
    "### Steps:\n",
    "1. Find the important keywords of each document using tf-idf\n",
    "2. Apply knn_model on tf-idf to find similar papers"
   ]
  },
  {
   "cell_type": "markdown",
   "metadata": {},
   "source": [
    "### Cleaning issue: \n",
    "* Clean text from \\n \\x and things like that by \n",
    "    1. Replace \\n and \\x0c ' : ! 0-9 and ... with space\n",
    "    2. Apply unicode"
   ]
  },
  {
   "cell_type": "code",
   "execution_count": 6,
   "metadata": {
    "collapsed": false
   },
   "outputs": [
    {
     "data": {
      "text/plain": [
       "'Learning with Symmetric Label Noise: The\\nImportance of Being Unhinged\\n\\nBrendan van Rooyen\\xe2\\x88\\x97,\\xe2\\x80\\xa0\\n\\xe2\\x88\\x97\\n\\nAditya Krishna Menon\\xe2\\x80\\xa0,\\xe2\\x88\\x97\\n\\nThe Australian National University\\n\\n\\xe2\\x80\\xa0\\n\\nRobert C. Williamson\\xe2\\x88\\x97,\\xe2\\x80\\xa0\\n\\nNational ICT Australia\\n\\n{ brendan.vanrooyen, aditya.menon, bob.williamson }@nicta.com.au\\n\\nAbstract\\nConvex potential minimisation is the de facto approach to binary classification.\\nHowever, Long and Servedio [2010] proved that under symmetric label noise\\n(SLN), minimisation of any convex potential over a linear function class can result in classification performance equivalent to random guessing. This ostensibly\\nshows that convex losses are not SLN-robust. In this paper, we propose a convex,\\nclassification-calibrated loss and prove that it is SLN-robust. The loss avoids the\\nLong and Servedio [2010] result by virtue of being negatively unbounded. The\\nloss is a modification of the hinge loss, where one does not clamp at zero; hence,\\nwe call it the unhinged loss. We show that the optimal unhi'"
      ]
     },
     "execution_count": 6,
     "metadata": {},
     "output_type": "execute_result"
    }
   ],
   "source": [
    "# Example Before Cleaning:\n",
    "papers_data[1]['PaperText'][0:1000]"
   ]
  },
  {
   "cell_type": "markdown",
   "metadata": {},
   "source": [
    "### Clean Abstract and PaperText:"
   ]
  },
  {
   "cell_type": "code",
   "execution_count": 7,
   "metadata": {
    "collapsed": true
   },
   "outputs": [],
   "source": [
    "import re\n",
    "def clean_text(text):\n",
    "    list_of_cleaning_signs = ['\\x0c', '\\n']\n",
    "    for sign in list_of_cleaning_signs:\n",
    "        text = text.replace(sign, ' ')\n",
    "    text = unicode(text, errors='ignore')\n",
    "    clean_text = re.sub('[^a-zA-Z]+', ' ', text)\n",
    "    return clean_text"
   ]
  },
  {
   "cell_type": "code",
   "execution_count": 8,
   "metadata": {
    "collapsed": true
   },
   "outputs": [],
   "source": [
    "papers_data['PaperText_clean'] = papers_data['PaperText'].apply(lambda x: clean_text(x))\n",
    "papers_data['Abstract_clean'] = papers_data['Abstract'].apply(lambda x: clean_text(x))"
   ]
  },
  {
   "cell_type": "code",
   "execution_count": 9,
   "metadata": {
    "collapsed": false
   },
   "outputs": [
    {
     "data": {
      "text/plain": [
       "'Learning with Symmetric Label Noise The Importance of Being Unhinged Brendan van Rooyen Aditya Krishna Menon The Australian National University Robert C Williamson National ICT Australia brendan vanrooyen aditya menon bob williamson nicta com au Abstract Convex potential minimisation is the de facto approach to binary classification However Long and Servedio proved that under symmetric label noise SLN minimisation of any convex potential over a linear function class can result in classification performance equivalent to random guessing This ostensibly shows that convex losses are not SLN robust In this paper we propose a convex classification calibrated loss and prove that it is SLN robust The loss avoids the Long and Servedio result by virtue of being negatively unbounded The loss is a modification of the hinge loss where one does not clamp at zero hence we call it the unhinged loss We show that the optimal unhinged solution is equivalent to that of a strongly regularised SVM and is t'"
      ]
     },
     "execution_count": 9,
     "metadata": {},
     "output_type": "execute_result"
    }
   ],
   "source": [
    "# Example After Cleaning\n",
    "papers_data[1]['PaperText_clean'][0:1000]"
   ]
  },
  {
   "cell_type": "markdown",
   "metadata": {},
   "source": [
    "### Build tf-idf columns for Abstract and PaperText:"
   ]
  },
  {
   "cell_type": "code",
   "execution_count": 10,
   "metadata": {
    "collapsed": true
   },
   "outputs": [],
   "source": [
    "papers_data['word_count_abstract_clean'] = graphlab.text_analytics.count_words(papers_data['Abstract_clean'])\n",
    "papers_data['tf_idf_Abstract_clean'] = graphlab.text_analytics.tf_idf(papers_data['word_count_abstract_clean'])\n",
    "papers_data['word_count_papertext_clean'] = graphlab.text_analytics.count_words(papers_data['PaperText_clean'])\n",
    "papers_data['tf_idf_PaperText_clean'] = graphlab.text_analytics.tf_idf(papers_data['word_count_papertext_clean'])"
   ]
  },
  {
   "cell_type": "markdown",
   "metadata": {},
   "source": [
    "### Build a function that takes paperID as input and prints keywords sorted by tf-idf:"
   ]
  },
  {
   "cell_type": "code",
   "execution_count": 11,
   "metadata": {
    "collapsed": true
   },
   "outputs": [],
   "source": [
    "def given_paperID_give_keywords(papers_data, paper_id, tfidf_col_name):\n",
    "    paper = papers_data[papers_data['Id']== paper_id]\n",
    "    keywords = paper[[tfidf_col_name]].stack(tfidf_col_name,\n",
    "                                             new_column_name=['word', tfidf_col_name]).sort(tfidf_col_name,\n",
    "                                                                                            ascending=False)\n",
    "    return keywords"
   ]
  },
  {
   "cell_type": "code",
   "execution_count": 12,
   "metadata": {
    "collapsed": false
   },
   "outputs": [
    {
     "name": "stdout",
     "output_type": "stream",
     "text": [
      "Keywords based on Abstract:\n",
      "+----------------+-----------------------+\n",
      "|      word      | tf_idf_Abstract_clean |\n",
      "+----------------+-----------------------+\n",
      "|      sln       |     29.9946828097     |\n",
      "|    unhinged    |     17.9968096858     |\n",
      "|      loss      |     16.2185981757     |\n",
      "|   potential    |     13.1684959485     |\n",
      "|    servedio    |     11.9978731239     |\n",
      "|  minimisation  |     11.9978731239     |\n",
      "|     convex     |      10.143223242     |\n",
      "|     robust     |     8.22252007178     |\n",
      "|   equivalent   |     7.83899004053     |\n",
      "| classification |      6.9301713235     |\n",
      "+----------------+-----------------------+\n",
      "[86 rows x 2 columns]\n",
      "Note: Only the head of the SFrame is printed.\n",
      "You can use print_rows(num_rows=m, num_columns=n) to print more rows and columns.\n",
      "Keywords based on PaperText:\n",
      "+------------+------------------------+\n",
      "|    word    | tf_idf_PaperText_clean |\n",
      "+------------+------------------------+\n",
      "|    sln     |     515.908544327      |\n",
      "|  unhinged  |     263.953208726      |\n",
      "|    unh     |     107.980858115      |\n",
      "|  scorers   |     106.115787628      |\n",
      "|    flin    |     83.9851118673      |\n",
      "|   scorer   |     77.9861753053      |\n",
      "| robustness |     76.9698099772      |\n",
      "|  servedio  |     61.4529810932      |\n",
      "|    wunh    |     59.9893656195      |\n",
      "|    loss    |     51.6815648881      |\n",
      "+------------+------------------------+\n",
      "[1037 rows x 2 columns]\n",
      "Note: Only the head of the SFrame is printed.\n",
      "You can use print_rows(num_rows=m, num_columns=n) to print more rows and columns.\n"
     ]
    }
   ],
   "source": [
    "# Example for keywords based on abstract\n",
    "paper_id_example = 5941\n",
    "print \"Keywords based on Abstract:\"\n",
    "print given_paperID_give_keywords(papers_data, paper_id_example, 'tf_idf_Abstract_clean')\n",
    "print \"Keywords based on PaperText:\"\n",
    "print given_paperID_give_keywords(papers_data, paper_id_example, 'tf_idf_PaperText_clean')"
   ]
  },
  {
   "cell_type": "markdown",
   "metadata": {},
   "source": [
    "### Build a function that takes paperID and knn_model as input and gives similar paper's Ids using knn_model:"
   ]
  },
  {
   "cell_type": "code",
   "execution_count": 13,
   "metadata": {
    "collapsed": true
   },
   "outputs": [],
   "source": [
    " def given_paperID_give_similar_papersID(knnModel, papers_data, paper_id):\n",
    "    similar_paper_ids = knnModel.query(papers_data[papers_data['Id']== paper_id], verbose=False)['reference_label']\n",
    "    return similar_paper_ids"
   ]
  },
  {
   "cell_type": "code",
   "execution_count": 14,
   "metadata": {
    "collapsed": false
   },
   "outputs": [
    {
     "name": "stdout",
     "output_type": "stream",
     "text": [
      "PROGRESS: Starting brute force nearest neighbors model training.\n",
      "PROGRESS: Starting brute force nearest neighbors model training.\n"
     ]
    }
   ],
   "source": [
    "knn_model_Abstract = graphlab.nearest_neighbors.create(papers_data, features=['tf_idf_Abstract_clean'], label='Id')\n",
    "knn_model_PaperText = graphlab.nearest_neighbors.create(papers_data, features=['tf_idf_PaperText_clean'], label='Id')"
   ]
  },
  {
   "cell_type": "code",
   "execution_count": 15,
   "metadata": {
    "collapsed": false
   },
   "outputs": [
    {
     "name": "stdout",
     "output_type": "stream",
     "text": [
      "Similar papers based on Abstract:\n",
      "[5941, 5742, 5801, 5924, 5745]\n",
      "Similar papers based on PaperText:\n",
      "[5941, 5999, 5994, 5921, 5806]\n"
     ]
    }
   ],
   "source": [
    "paper_id_example = 5941\n",
    "Abstract_sim_papers_example = given_paperID_give_similar_papersID(knn_model_Abstract, papers_data, paper_id_example)\n",
    "PaperText_sim_papers_example = given_paperID_give_similar_papersID(knn_model_PaperText, papers_data, paper_id_example)\n",
    "print \"Similar papers based on Abstract:\"\n",
    "print Abstract_sim_papers_example\n",
    "print \"Similar papers based on PaperText:\"\n",
    "print PaperText_sim_papers_example"
   ]
  },
  {
   "cell_type": "markdown",
   "metadata": {},
   "source": [
    "### Some post-processing functions:"
   ]
  },
  {
   "cell_type": "code",
   "execution_count": 16,
   "metadata": {
    "collapsed": false
   },
   "outputs": [],
   "source": [
    "def given_paperID_give_authours_id(paper_id, author_data, author_id_data):\n",
    "    id_author_list = author_id_data[author_id_data['PaperId']==paper_id]['AuthorId']\n",
    "    return id_author_list\n",
    "\n",
    "def given_authorID_give_name(author_id, author_data):\n",
    "    author_name = author_data[author_data['Id'] == author_id]['Name'][0]\n",
    "    return author_name\n",
    "\n",
    "def given_similar_paperIDs_give_their_titles(sim_papers_list, paper_data):\n",
    "    titles = []\n",
    "    for paper_id in sim_papers_list:\n",
    "        titles.append(paper_data[paper_data['Id']==paper_id]['Title'][0]+'.')\n",
    "    return titles\n",
    "        "
   ]
  },
  {
   "cell_type": "code",
   "execution_count": 17,
   "metadata": {
    "collapsed": false
   },
   "outputs": [
    {
     "name": "stdout",
     "output_type": "stream",
     "text": [
      "Title of similar papers based on Abstract:\n",
      "\n",
      "\n",
      "Learning with Symmetric Label Noise: The Importance of Being Unhinged.\n",
      "Top-k Multiclass SVM.\n",
      "Reflection, Refraction, and Hamiltonian Monte Carlo.\n",
      "A Dual Augmented Block Minimization Framework for Learning with Limited Memory.\n",
      "Distributionally Robust Logistic Regression.\n"
     ]
    }
   ],
   "source": [
    "print \"Title of similar papers based on Abstract:\\n\\n\"\n",
    "for title in given_similar_paperIDs_give_their_titles(Abstract_sim_papers_example, papers_data):\n",
    "    print title"
   ]
  },
  {
   "cell_type": "code",
   "execution_count": 18,
   "metadata": {
    "collapsed": false
   },
   "outputs": [
    {
     "name": "stdout",
     "output_type": "stream",
     "text": [
      "Title of similar papers based on PaperText:\n",
      "\n",
      "\n",
      "Learning with Symmetric Label Noise: The Importance of Being Unhinged.\n",
      "Fast Classification Rates for High-dimensional Gaussian Generative Models.\n",
      "Online F-Measure Optimization.\n",
      "Convergence Rates of Active Learning for Maximum Likelihood Estimation.\n",
      "On the Accuracy of Self-Normalized Log-Linear Models.\n"
     ]
    }
   ],
   "source": [
    "print \"Title of similar papers based on PaperText:\\n\\n\"\n",
    "for title in given_similar_paperIDs_give_their_titles(PaperText_sim_papers_example, papers_data):\n",
    "    print title"
   ]
  },
  {
   "cell_type": "markdown",
   "metadata": {},
   "source": [
    "# *** Question: Are they really similar? i.e. Is there a way to evaluate? ***\n",
    "## *** Maybe we can check if they referenced the same papers? ***"
   ]
  },
  {
   "cell_type": "code",
   "execution_count": null,
   "metadata": {
    "collapsed": true
   },
   "outputs": [],
   "source": []
  }
 ],
 "metadata": {
  "kernelspec": {
   "display_name": "Python 2",
   "language": "python",
   "name": "python2"
  },
  "language_info": {
   "codemirror_mode": {
    "name": "ipython",
    "version": 2
   },
   "file_extension": ".py",
   "mimetype": "text/x-python",
   "name": "python",
   "nbconvert_exporter": "python",
   "pygments_lexer": "ipython2",
   "version": "2.7.10"
  }
 },
 "nbformat": 4,
 "nbformat_minor": 0
}
